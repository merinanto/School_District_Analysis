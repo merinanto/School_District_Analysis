{
 "cells": [
  {
   "cell_type": "code",
   "execution_count": 13,
   "metadata": {
    "scrolled": true
   },
   "outputs": [
    {
     "name": "stdout",
     "output_type": "stream",
     "text": [
      "C:\\Users\\merin\\Documents\\GitHub\\School_District_Analysis\n",
      "Resources\\missing_grades.csv\n"
     ]
    },
    {
     "data": {
      "text/plain": [
       "Student ID         int64\n",
       "student_name      object\n",
       "gender            object\n",
       "grade             object\n",
       "reading_score    float64\n",
       "math_score       float64\n",
       "dtype: object"
      ]
     },
     "execution_count": 13,
     "metadata": {},
     "output_type": "execute_result"
    }
   ],
   "source": [
    "# Add the Pandas  and os dependency\n",
    "import pandas as pd\n",
    "import os\n",
    "\n",
    "cwd = os.getcwd()\n",
    "print(cwd)\n",
    "\n",
    "# Files to load\n",
    "file_to_load = os.path.join(\"Resources\", \"missing_grades.csv\")\n",
    "print(file_to_load)\n",
    "\n",
    "# Read the CSV into a DataFrame\n",
    "missing_grade_df = pd.read_csv(file_to_load)\n",
    "missing_grade_df\n",
    "\n",
    "# Drop the NaNs.\n",
    "#missing_grade_df.dropna()\n",
    "\n",
    "# Fill in the empty rows with \"85\".\n",
    "missing_grade_df.fillna(85)\n",
    "missing_grade_df.dtypes"
   ]
  },
  {
   "cell_type": "code",
   "execution_count": null,
   "metadata": {},
   "outputs": [],
   "source": []
  }
 ],
 "metadata": {
  "kernelspec": {
   "display_name": "PythonData",
   "language": "python",
   "name": "pythondata"
  },
  "language_info": {
   "codemirror_mode": {
    "name": "ipython",
    "version": 3
   },
   "file_extension": ".py",
   "mimetype": "text/x-python",
   "name": "python",
   "nbconvert_exporter": "python",
   "pygments_lexer": "ipython3",
   "version": "3.7.9"
  }
 },
 "nbformat": 4,
 "nbformat_minor": 4
}
